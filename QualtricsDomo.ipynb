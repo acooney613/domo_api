{
 "cells": [
  {
   "cell_type": "code",
   "execution_count": 1,
   "metadata": {},
   "outputs": [],
   "source": [
    "domoClientID = \"7f19a8ce-9ce3-4453-a4bd-c2b609c209f0\"\n",
    "domoClientSecret = \"767ceb0da19e001f0fe50e8ca76a661ba618ff183f5782b079b9dc4f1e469d82\"\n",
    "aaronQualtricsToken = \"c9YI6GsAFthSveZdUkxR5sUn6Q6lvL73z3ICKEbE\"\n",
    "qualtricsDataCenterID = \"sjc1\"\n",
    "qualtricsClientID = \"9898cb9df47232170b727c77831588de\"\n",
    "qualtricsClientSecret = \"ypjPM4m2r1T85KSPIAB3BIjgZwFZ96W1PGLh9f4IwvKb2jjPcUZaU78alMKPNp9G\"\n",
    "fallID = \"SV_064bOE79tC9gCYm\"\n",
    "import requests\n",
    "import json\n",
    "from urllib.error import HTTPError"
   ]
  },
  {
   "cell_type": "code",
   "execution_count": 2,
   "metadata": {},
   "outputs": [
    {
     "data": {
      "text/plain": [
       "'5948f00b-669f-48ac-96c7-736e7fa029bb'"
      ]
     },
     "execution_count": 2,
     "metadata": {},
     "output_type": "execute_result"
    }
   ],
   "source": [
    "def getQualtricsToken():\n",
    "    baseUrl =f\"https://{qualtricsDataCenterID}.qualtrics.com/oauth2/token\"\n",
    "    data = {'grant_type': 'client_credentials',\n",
    "            'scope': [  'manage:survey_responses','manage:survey_sessions','manage:surveys', \n",
    "                      'read:survey_responses', 'read:survey_sessions', 'read:surveys', \n",
    "                      'write:survey_responses', 'write:survey_sessions', 'write:surveys']}\n",
    "    \n",
    "    try:\n",
    "        response = requests.request(\"POST\", baseUrl, auth = (qualtricsClientID, qualtricsClientSecret), data = data)\n",
    "        response.raise_for_status()\n",
    "    except HTTPError as http_err:\n",
    "        print(f'HTTP error occurred: {http_err}')\n",
    "        exit()\n",
    "    except Exception as err:\n",
    "        print(f'Other error occurred: {err}')\n",
    "        # print(response.json()[\"messages\"])\n",
    "        exit()\n",
    "\n",
    "    responseData = response.json()\n",
    "    return responseData['access_token']\n",
    "\n",
    "token = getQualtricsToken()\n",
    "token"
   ]
  },
  {
   "cell_type": "code",
   "execution_count": 3,
   "metadata": {},
   "outputs": [
    {
     "name": "stdout",
     "output_type": "stream",
     "text": [
      "Other error occurred: Invalid leading whitespace, reserved character(s), or returncharacter(s) in header name: 'X-API-TOKEN: '\n"
     ]
    },
    {
     "ename": "UnboundLocalError",
     "evalue": "cannot access local variable 'response' where it is not associated with a value",
     "output_type": "error",
     "traceback": [
      "\u001b[0;31m---------------------------------------------------------------------------\u001b[0m",
      "\u001b[0;31mUnboundLocalError\u001b[0m                         Traceback (most recent call last)",
      "\u001b[1;32m/Users/aaronoustrich/Desktop/Data Science Major/CareerServices/domo_api/QualtricsDomo.ipynb Cell 3\u001b[0m line \u001b[0;36m2\n\u001b[1;32m     <a href='vscode-notebook-cell:/Users/aaronoustrich/Desktop/Data%20Science%20Major/CareerServices/domo_api/QualtricsDomo.ipynb#W2sZmlsZQ%3D%3D?line=16'>17</a>\u001b[0m     responseData \u001b[39m=\u001b[39m response\u001b[39m.\u001b[39mjson()\n\u001b[1;32m     <a href='vscode-notebook-cell:/Users/aaronoustrich/Desktop/Data%20Science%20Major/CareerServices/domo_api/QualtricsDomo.ipynb#W2sZmlsZQ%3D%3D?line=17'>18</a>\u001b[0m     \u001b[39mreturn\u001b[39;00m responseData\n\u001b[0;32m---> <a href='vscode-notebook-cell:/Users/aaronoustrich/Desktop/Data%20Science%20Major/CareerServices/domo_api/QualtricsDomo.ipynb#W2sZmlsZQ%3D%3D?line=19'>20</a>\u001b[0m res \u001b[39m=\u001b[39m startExport(token)\n",
      "\u001b[1;32m/Users/aaronoustrich/Desktop/Data Science Major/CareerServices/domo_api/QualtricsDomo.ipynb Cell 3\u001b[0m line \u001b[0;36m1\n\u001b[1;32m     <a href='vscode-notebook-cell:/Users/aaronoustrich/Desktop/Data%20Science%20Major/CareerServices/domo_api/QualtricsDomo.ipynb#W2sZmlsZQ%3D%3D?line=13'>14</a>\u001b[0m     \u001b[39m# print(response.json()[\"messages\"])\u001b[39;00m\n\u001b[1;32m     <a href='vscode-notebook-cell:/Users/aaronoustrich/Desktop/Data%20Science%20Major/CareerServices/domo_api/QualtricsDomo.ipynb#W2sZmlsZQ%3D%3D?line=14'>15</a>\u001b[0m     exit()\n\u001b[0;32m---> <a href='vscode-notebook-cell:/Users/aaronoustrich/Desktop/Data%20Science%20Major/CareerServices/domo_api/QualtricsDomo.ipynb#W2sZmlsZQ%3D%3D?line=16'>17</a>\u001b[0m responseData \u001b[39m=\u001b[39m response\u001b[39m.\u001b[39mjson()\n\u001b[1;32m     <a href='vscode-notebook-cell:/Users/aaronoustrich/Desktop/Data%20Science%20Major/CareerServices/domo_api/QualtricsDomo.ipynb#W2sZmlsZQ%3D%3D?line=17'>18</a>\u001b[0m \u001b[39mreturn\u001b[39;00m responseData\n",
      "\u001b[0;31mUnboundLocalError\u001b[0m: cannot access local variable 'response' where it is not associated with a value"
     ]
    },
    {
     "ename": "",
     "evalue": "",
     "output_type": "error",
     "traceback": [
      "\u001b[1;31mThe Kernel crashed while executing code in the the current cell or a previous cell. Please review the code in the cell(s) to identify a possible cause of the failure. Click <a href='https://aka.ms/vscodeJupyterKernelCrash'>here</a> for more info. View Jupyter <a href='command:jupyter.viewOutput'>log</a> for further details."
     ]
    }
   ],
   "source": [
    "def startExport(token):\n",
    "    # https://api.qualtrics.com/6b00592b9c013-start-response-export\n",
    "    url = f\"https://{qualtricsDataCenterID}.qualtrics.com/API/v3//surveys/{fallID}/export-responses\"\n",
    "    header =  {'Content-Type': 'application/json','X-API-TOKEN: ': token}\n",
    "    body = {'format': \"csv\"}\n",
    "    try:\n",
    "        response = requests.request(\"POST\", headers=header, data=body, url=url)\n",
    "        response.raise_for_status()\n",
    "    except HTTPError as http_err:\n",
    "        print(f'HTTP error occurred: {http_err}')\n",
    "        exit()\n",
    "    except Exception as err:\n",
    "        print(f'Other error occurred: {err}')\n",
    "        # print(response.json()[\"messages\"])\n",
    "        exit()\n",
    "\n",
    "    responseData = response.json()\n",
    "    return responseData\n",
    "\n",
    "# res = startExport(token)"
   ]
  },
  {
   "cell_type": "code",
   "execution_count": null,
   "metadata": {},
   "outputs": [],
   "source": []
  }
 ],
 "metadata": {
  "kernelspec": {
   "display_name": "Python 3",
   "language": "python",
   "name": "python3"
  },
  "language_info": {
   "codemirror_mode": {
    "name": "ipython",
    "version": 3
   },
   "file_extension": ".py",
   "mimetype": "text/x-python",
   "name": "python",
   "nbconvert_exporter": "python",
   "pygments_lexer": "ipython3",
   "version": "3.11.0"
  },
  "orig_nbformat": 4
 },
 "nbformat": 4,
 "nbformat_minor": 2
}
