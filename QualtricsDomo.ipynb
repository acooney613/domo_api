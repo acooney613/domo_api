{
 "cells": [
  {
   "cell_type": "code",
   "execution_count": 2,
   "metadata": {},
   "outputs": [],
   "source": [
    "domoClientID = \"7f19a8ce-9ce3-4453-a4bd-c2b609c209f0\"\n",
    "domoClientSecret = \"767ceb0da19e001f0fe50e8ca76a661ba618ff183f5782b079b9dc4f1e469d82\"\n",
    "aaronQualtricsToken = \"c9YI6GsAFthSveZdUkxR5sUn6Q6lvL73z3ICKEbE\" \n",
    "qualtricsDataCenterID = \"sjc1\"\n",
    "qualtricsClientID = \"9898cb9df47232170b727c77831588de\"\n",
    "qualtricsClientSecret = \"ypjPM4m2r1T85KSPIAB3BIjgZwFZ96W1PGLh9f4IwvKb2jjPcUZaU78alMKPNp9G\"\n",
    "fallID = \"SV_064bOE79tC9gCYm\"\n",
    "\n",
    "import requests\n",
    "import json\n",
    "from urllib.error import HTTPError\n",
    "import zipfile\n",
    "import io"
   ]
  },
  {
   "cell_type": "code",
   "execution_count": 28,
   "metadata": {},
   "outputs": [
    {
     "data": {
      "text/plain": [
       "'a3b57168-e366-4a4d-8aa3-2dbc26c4027f'"
      ]
     },
     "execution_count": 28,
     "metadata": {},
     "output_type": "execute_result"
    }
   ],
   "source": [
    "# def getQualtricsToken():\n",
    "#     baseUrl =f\"https://{qualtricsDataCenterID}.qualtrics.com/oauth2/token\"\n",
    "#     data = {'grant_type': 'client_credentials',\n",
    "#             'scope': [  'manage:survey_responses','manage:survey_sessions','manage:surveys', \n",
    "#                       'read:survey_responses', 'read:survey_sessions', 'read:surveys', \n",
    "#                       'write:survey_responses', 'write:survey_sessions', 'write:surveys']}\n",
    "    \n",
    "#     try:\n",
    "#         response = requests.request(\"POST\", baseUrl, auth = (qualtricsClientID, qualtricsClientSecret), data = data)\n",
    "#         response.raise_for_status()\n",
    "#     except HTTPError as http_err:\n",
    "#         print(f'HTTP error occurred: {http_err}')\n",
    "#         exit()\n",
    "#     except Exception as err:\n",
    "#         print(f'Other error occurred: {err}')\n",
    "#         # print(response.json()[\"messages\"])\n",
    "#         exit()\n",
    "\n",
    "#     responseData = response.json()\n",
    "#     return responseData['access_token']\n",
    "\n",
    "# token = getQualtricsToken()\n",
    "# token"
   ]
  },
  {
   "cell_type": "code",
   "execution_count": null,
   "metadata": {},
   "outputs": [],
   "source": [
    "# def startExport(token):\n",
    "#     # https://api.qualtrics.com/6b00592b9c013-start-response-export\n",
    "#     url = f\"https://{qualtricsDataCenterID}.qualtrics.com/API/v3//surveys/{fallID}/export-responses\"\n",
    "#     header =  {'Content-Type': 'application/json','Authorization: ': token}\n",
    "#     body = {'format': \"csv\"}\n",
    "#     try:\n",
    "#         response = requests.request(\"POST\", headers=header, data=body, url=url)\n",
    "#         print(response.status_code)\n",
    "#         response.raise_for_status()\n",
    "#     except HTTPError as http_err:\n",
    "#         print(f'HTTP error occurred: {http_err}')\n",
    "#         exit()\n",
    "#     except Exception as err:\n",
    "#         print(f'Other error occurred: {err}')\n",
    "#         # print(response.json()[\"messages\"])\n",
    "#         exit()\n",
    "\n",
    "#     # response = requests.request(\"POST\", headers=header, data=body, url=url)\n",
    "#     # print(response.status_code)\n",
    "    \n",
    "#     # responseData = response.json()\n",
    "#     # print(responseData)\n",
    "#     # return \n",
    "\n",
    "# startExport(token)"
   ]
  },
  {
   "cell_type": "code",
   "execution_count": 10,
   "metadata": {},
   "outputs": [
    {
     "data": {
      "text/plain": [
       "'ES_rsp5j5vo1abst2s1f3u24dair3'"
      ]
     },
     "execution_count": 10,
     "metadata": {},
     "output_type": "execute_result"
    }
   ],
   "source": [
    "base_url = f\"https://{qualtricsDataCenterID}.qualtrics.com/API/v3/responseexports/\"\n",
    "headers = {\n",
    "    \"content-type\": \"application/json\",\n",
    "    \"x-api-token\": aaronQualtricsToken,\n",
    "}\n",
    "\n",
    "# download_request_payload = '{\"format\":\"' + \"csv\" + '\",\"surveyId\":\"' + fallID + '\"}' # you can set useLabels:True to get responses in text format\n",
    "download_request_payload = '{\"format\":\"' + \"csv\" + '\",\"surveyId\":\"' + fallID + '\",\"useLabels\":' + \"true\" +  '}'\n",
    "download_request_response = requests.request(\"POST\", base_url, data=download_request_payload, headers=headers)\n",
    "progress_id = download_request_response.json()['result']['id']\n"
   ]
  },
  {
   "cell_type": "code",
   "execution_count": 14,
   "metadata": {},
   "outputs": [],
   "source": [
    "# Step 2: Checking on Data Export Progress and waiting until export is ready\n",
    "\n",
    "while request_check_progress < 100:\n",
    "    request_check_url = base_url + progress_id\n",
    "    request_check_response = requests.request(\"GET\", request_check_url, headers=headers)\n",
    "    request_check_progress = request_check_response.json()[\"result\"][\"percentComplete\"]\n",
    "\n",
    "\n",
    "# # Step 3: Downloading file\n",
    "request_download_url = base_url + progress_id + '/file'\n",
    "request_download = requests.request(\"GET\", request_download_url, headers=headers, stream=True)\n",
    "\n",
    "\n",
    "# # # Step 4: Unzipping the file\n",
    "zipfile.ZipFile(io.BytesIO(request_download.content)).extractall()\n",
    "\n",
    "\n"
   ]
  },
  {
   "cell_type": "code",
   "execution_count": 53,
   "metadata": {},
   "outputs": [
    {
     "data": {
      "text/plain": [
       "{'meta': {'requestId': '6c757be1-5c13-47de-b798-458881ae0b1e',\n",
       "  'httpStatus': '400 - Bad Request',\n",
       "  'error': {'errorCode': 'QVAL_9',\n",
       "   'errorMessage': 'Unknown fields are set: surveyId'}}}"
      ]
     },
     "execution_count": 53,
     "metadata": {},
     "output_type": "execute_result"
    }
   ],
   "source": [
    "# #start response exports\n",
    "# url = f\"https://az1.qualtrics.com/API/v3/surveys/{fallID}/export-responses\"\n",
    "# headers = {\n",
    "#     \"content-type\": \"application/json\",\n",
    "#     \"x-api-token\": aaronQualtricsToken,\n",
    "# }\n",
    "# # download_request_payload = json.dumps({\"format\":\"csv\",\"surveyId\":\"SV_064bOE79tC9gCYm\"}) # you can set useLabels:True to get responses in text format\n",
    "# payload  = {\n",
    "#     \"format\": \"csv\",\n",
    "#     \"surveyId\": fallID\n",
    "# }\n",
    "# download_request_payload = json.dumps(payload)\n",
    "\n",
    "# download_request_response = requests.request(\"POST\", url, data=download_request_payload, headers=headers)\n",
    "# export_progress_id = download_request_response.json()\n",
    "# export_progress_id"
   ]
  }
 ],
 "metadata": {
  "kernelspec": {
   "display_name": "Python 3",
   "language": "python",
   "name": "python3"
  },
  "language_info": {
   "codemirror_mode": {
    "name": "ipython",
    "version": 3
   },
   "file_extension": ".py",
   "mimetype": "text/x-python",
   "name": "python",
   "nbconvert_exporter": "python",
   "pygments_lexer": "ipython3",
   "version": "3.11.0"
  },
  "orig_nbformat": 4
 },
 "nbformat": 4,
 "nbformat_minor": 2
}
