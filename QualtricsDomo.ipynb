{
 "cells": [
  {
   "cell_type": "code",
   "execution_count": 2,
   "metadata": {},
   "outputs": [],
   "source": [
    "domoClientID = \"7f19a8ce-9ce3-4453-a4bd-c2b609c209f0\"\n",
    "domoClientSecret = \"767ceb0da19e001f0fe50e8ca76a661ba618ff183f5782b079b9dc4f1e469d82\"\n",
    "aaronQualtricsToken = \"c9YI6GsAFthSveZdUkxR5sUn6Q6lvL73z3ICKEbE\"\n",
    "qualtricsDataCenterID = \"sjc1\"\n",
    "qualtricsClientID = \"9898cb9df47232170b727c77831588de\"\n",
    "qualtricsClientSecret = \"ypjPM4m2r1T85KSPIAB3BIjgZwFZ96W1PGLh9f4IwvKb2jjPcUZaU78alMKPNp9G\"\n",
    "import requests\n",
    "import json\n",
    "from urllib.error import HTTPError"
   ]
  },
  {
   "cell_type": "code",
   "execution_count": null,
   "metadata": {},
   "outputs": [],
   "source": [
    "def getQualtricsToken():\n",
    "    baseUrl =f\"https://{qualtricsDataCenterID}.qualtrics.com/oauth2/token\"\n",
    "    data = {'grant_type': 'client_credentials','scope': 'manage:all'}\n",
    "    \n",
    "    # r = requests.post(baseUrl, auth=(clientId, clientSecret), data=data)\n",
    "    # return r.json()['access_token']\n",
    "    data = {'grant_type': 'client_credentials','scope': 'manage:all'}\n",
    "\n",
    "    try:\n",
    "        response = requests.request(\"POST\", baseUrl, auth = (qualtricsClientID, qualtricsClientSecret), data = data)\n",
    "        response.raise_for_status()\n",
    "    except HTTPError as http_err:\n",
    "        print(f'HTTP error occurred: {http_err}')\n",
    "        exit()\n",
    "    except Exception as err:\n",
    "        print(f'Other error occurred: {err}')\n",
    "        # print(response.json()[\"messages\"])\n",
    "        exit()\n",
    "\n",
    "    responseData = response.json()\n",
    "\n",
    "\n",
    "# print(getToken())"
   ]
  }
 ],
 "metadata": {
  "kernelspec": {
   "display_name": "Python 3",
   "language": "python",
   "name": "python3"
  },
  "language_info": {
   "codemirror_mode": {
    "name": "ipython",
    "version": 3
   },
   "file_extension": ".py",
   "mimetype": "text/x-python",
   "name": "python",
   "nbconvert_exporter": "python",
   "pygments_lexer": "ipython3",
   "version": "3.11.0"
  },
  "orig_nbformat": 4
 },
 "nbformat": 4,
 "nbformat_minor": 2
}
